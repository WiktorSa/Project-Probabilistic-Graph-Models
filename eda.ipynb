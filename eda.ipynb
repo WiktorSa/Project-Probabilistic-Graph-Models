{
 "cells": [
  {
   "cell_type": "markdown",
   "id": "de471e2f",
   "metadata": {},
   "source": [
    "## Imports"
   ]
  },
  {
   "cell_type": "code",
   "execution_count": null,
   "id": "3636cc56-17d2-4d59-86b5-c44d43e452b3",
   "metadata": {},
   "outputs": [],
   "source": [
    "import numpy as np\n",
    "import pandas as pd\n",
    "import seaborn as sns\n",
    "import matplotlib.pyplot as plt\n",
    "from sklearn.manifold import TSNE\n",
    "from sklearn.decomposition import PCA\n",
    "from ydata_profiling import ProfileReport\n",
    "from sklearn.preprocessing import OrdinalEncoder\n",
    "from scipy import stats"
   ]
  },
  {
   "cell_type": "markdown",
   "id": "df4a91a0",
   "metadata": {},
   "source": [
    "## Load data"
   ]
  },
  {
   "cell_type": "code",
   "execution_count": null,
   "id": "8e4c3603",
   "metadata": {},
   "outputs": [],
   "source": [
    "DATA = pd.read_csv('data/input.csv')"
   ]
  },
  {
   "cell_type": "code",
   "execution_count": null,
   "id": "9448d923-79ab-4116-ada7-0a89ab0035c9",
   "metadata": {},
   "outputs": [],
   "source": [
    "%matplotlib inline\n",
    "profile = ProfileReport(DATA, title=\"report\")\n",
    "profile"
   ]
  },
  {
   "cell_type": "code",
   "execution_count": null,
   "id": "730a1b51-a0e9-490e-9fc1-a1c68fc21445",
   "metadata": {},
   "outputs": [],
   "source": [
    "categorical_cols = DATA.select_dtypes(include=['object', 'category']).columns\n",
    "categorical_cols = [c for c in categorical_cols if c != 'y']\n",
    "numerical_cols = DATA.select_dtypes(include=['number']).columns"
   ]
  },
  {
   "cell_type": "code",
   "execution_count": null,
   "id": "14016fc6-bd96-442f-9754-0b8868c3e8f4",
   "metadata": {},
   "outputs": [],
   "source": [
    "print('Columns categorical: ' + ', '.join(categorical_cols))"
   ]
  },
  {
   "cell_type": "code",
   "execution_count": null,
   "id": "9e0f7312-828a-418a-84a9-50932bc79fa7",
   "metadata": {},
   "outputs": [],
   "source": [
    "print('Columns nuemrical: ' + ', '.join(numerical_cols))"
   ]
  },
  {
   "cell_type": "code",
   "execution_count": null,
   "id": "21413e17-bafd-4391-88a6-27100a2f9261",
   "metadata": {},
   "outputs": [],
   "source": [
    "DATA[numerical_cols].describe()"
   ]
  },
  {
   "cell_type": "code",
   "execution_count": null,
   "id": "14fb94ba-36fc-43ee-b3ba-c432013d3fcd",
   "metadata": {},
   "outputs": [],
   "source": [
    "def create_corr_matrix(data):\n",
    "    corr = data.corr()\n",
    "    fig, ax = plt.subplots()\n",
    "    im = ax.imshow(corr, cmap='coolwarm')\n",
    "    ax.set_xticks(np.arange(len(corr.columns)))\n",
    "    ax.set_yticks(np.arange(len(corr.columns)))\n",
    "    ax.set_xticklabels(corr.columns)\n",
    "    ax.set_yticklabels(corr.columns)\n",
    "    plt.setp(ax.get_xticklabels(), rotation=45, ha=\"right\", rotation_mode=\"anchor\")\n",
    "    for i in range(len(corr.columns)):\n",
    "        for j in range(len(corr.columns)):\n",
    "            text = ax.text(j, i, round(corr.iloc[i, j], 2),\n",
    "                           ha=\"center\", va=\"center\", color=\"w\")\n",
    "    plt.colorbar(im)\n",
    "    plt.show()\n",
    "\n",
    "create_corr_matrix(DATA[numerical_cols])"
   ]
  },
  {
   "cell_type": "code",
   "execution_count": null,
   "id": "95ba80eb-18ce-4932-a2f3-59880e60b861",
   "metadata": {},
   "outputs": [],
   "source": [
    "for c in numerical_cols:\n",
    "    sns.displot(DATA, x=c, hue=\"y\", kde=False, height=5, aspect=2)\n",
    "    plt.show()"
   ]
  },
  {
   "cell_type": "code",
   "execution_count": null,
   "id": "31a111a8-cb9d-468b-b52f-b63d34512988",
   "metadata": {},
   "outputs": [],
   "source": [
    "def plot_dim_reduced(x, reductor, title, y_label):\n",
    "    x = x.drop(y_label, axis=1)\n",
    "    x = pd.DataFrame(reductor.fit_transform(x), columns=[f'{title}1', f'{title}2'])\n",
    "    x['y'] = DATA[y_label]\n",
    "    sns.lmplot(data=x, x=f'{title}1', y=f'{title}2', hue=y_label, fit_reg=False)\n",
    "    plt.show()\n",
    "\n",
    "all_numerical_data = pd.DataFrame(OrdinalEncoder().fit_transform(DATA), columns=DATA.columns)\n",
    "plot_dim_reduced(all_numerical_data, PCA(n_components=2), 'PCA', 'y')\n",
    "plot_dim_reduced(all_numerical_data, TSNE(n_components=2, random_state=0), 'PCA', 'y')"
   ]
  },
  {
   "cell_type": "code",
   "execution_count": null,
   "id": "27a2eaa8-086f-4324-bc80-225bc04a7d3c",
   "metadata": {},
   "outputs": [],
   "source": [
    "pca = PCA(n_components=8).fit(all_numerical_data)\n",
    "plt.plot(np.cumsum(pca.explained_variance_ratio_))\n",
    "plt.xlabel('number of components')\n",
    "plt.ylabel('cumulative explained variance')\n",
    "plt.gcf().set_size_inches(7, 5)"
   ]
  },
  {
   "cell_type": "code",
   "execution_count": null,
   "id": "c4e6d653-fbd9-41a5-927e-8e74239feccd",
   "metadata": {},
   "outputs": [],
   "source": [
    "n_df = DATA.select_dtypes(include='number')\n",
    "encoder = OrdinalEncoder(handle_unknown='use_encoded_value', unknown_value=-1)\n",
    "ys = encoder.fit_transform(DATA)[:,-1]\n",
    "n_df['y'] = ys"
   ]
  },
  {
   "cell_type": "code",
   "execution_count": null,
   "id": "10fdd0f3-f3be-484d-a044-bb26635460c2",
   "metadata": {},
   "outputs": [],
   "source": [
    "n_df"
   ]
  },
  {
   "cell_type": "code",
   "execution_count": null,
   "id": "7d7371ca-7a7c-4a04-877e-95a5d88a8b1c",
   "metadata": {},
   "outputs": [],
   "source": [
    "sns.pairplot(n_df, hue='y')"
   ]
  },
  {
   "cell_type": "code",
   "execution_count": null,
   "id": "b943ff57-0a6e-428b-a6ad-307858610599",
   "metadata": {},
   "outputs": [],
   "source": [
    "# Outlier analysis\n",
    "n_df_no_y = n_df.drop(['y'], axis=1)\n",
    "z = np.abs(stats.zscore(n_df_no_y))\n",
    "(z > 2).sum()"
   ]
  },
  {
   "cell_type": "code",
   "execution_count": null,
   "id": "2612da33-9e83-4a54-bb38-aa79b2d82b66",
   "metadata": {},
   "outputs": [],
   "source": [
    "n_df_no_y[z > 2]['Age'].dropna().sort_values()"
   ]
  },
  {
   "cell_type": "code",
   "execution_count": null,
   "id": "00a16642-e09e-47d5-bc3b-c9e51c0dacde",
   "metadata": {},
   "outputs": [],
   "source": [
    "n_df_no_y[z <= 2]['Age'].dropna().sort_values()"
   ]
  },
  {
   "cell_type": "code",
   "execution_count": null,
   "id": "90b34a98-b4eb-4773-b6f8-33732f7984ba",
   "metadata": {},
   "outputs": [],
   "source": [
    "n_df_no_y[z > 2]['FCVC'].dropna().sort_values()"
   ]
  },
  {
   "cell_type": "code",
   "execution_count": null,
   "id": "62fd1e2d-8c6a-471d-be55-08b9e8d341ba",
   "metadata": {},
   "outputs": [],
   "source": [
    "n_df_no_y[z <= 2]['FCVC'].dropna().sort_values()"
   ]
  },
  {
   "cell_type": "code",
   "execution_count": null,
   "id": "59767c38-4bf8-42b6-8778-864f7014acc0",
   "metadata": {},
   "outputs": [],
   "source": [
    "n_df_no_y[z > 2]['NCP'].dropna().sort_values()"
   ]
  },
  {
   "cell_type": "code",
   "execution_count": null,
   "id": "bf7b4e19-1c4c-4595-826b-e9bc551c72cc",
   "metadata": {},
   "outputs": [],
   "source": [
    "n_df_no_y[z <= 2]['NCP'].dropna().sort_values()"
   ]
  },
  {
   "cell_type": "code",
   "execution_count": null,
   "id": "80b66035-da9f-4d7c-bcff-1ed854cb6d4f",
   "metadata": {},
   "outputs": [],
   "source": [
    "n_df_no_y[z > 2]['FAF'].dropna().sort_values()"
   ]
  },
  {
   "cell_type": "code",
   "execution_count": null,
   "id": "651a044e-cacf-404c-9831-0c045410bbd4",
   "metadata": {},
   "outputs": [],
   "source": [
    "n_df_no_y[z <= 2]['FAF'].dropna().sort_values()"
   ]
  },
  {
   "cell_type": "code",
   "execution_count": null,
   "id": "d07c4341-c6ae-4411-ace8-7b8b9e10cd79",
   "metadata": {},
   "outputs": [],
   "source": [
    "n_df_no_y[z > 2]['TUE'].dropna().sort_values()"
   ]
  },
  {
   "cell_type": "code",
   "execution_count": null,
   "id": "ca6766b6-85bd-44f7-816b-b1903208ad11",
   "metadata": {},
   "outputs": [],
   "source": [
    "n_df_no_y[z <= 2]['TUE'].dropna().sort_values()"
   ]
  }
 ],
 "metadata": {
  "kernelspec": {
   "display_name": "Python 3 (ipykernel)",
   "language": "python",
   "name": "python3"
  },
  "language_info": {
   "codemirror_mode": {
    "name": "ipython",
    "version": 3
   },
   "file_extension": ".py",
   "mimetype": "text/x-python",
   "name": "python",
   "nbconvert_exporter": "python",
   "pygments_lexer": "ipython3",
   "version": "3.10.12"
  }
 },
 "nbformat": 4,
 "nbformat_minor": 5
}
