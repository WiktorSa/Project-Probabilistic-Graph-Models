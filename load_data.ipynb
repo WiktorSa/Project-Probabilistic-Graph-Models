{
 "cells": [
  {
   "cell_type": "markdown",
   "metadata": {},
   "source": [
    "## Used only once to download data and push to DVC"
   ]
  },
  {
   "cell_type": "code",
   "execution_count": null,
   "metadata": {},
   "outputs": [],
   "source": [
    "import pandas as pd\n",
    "from ucimlrepo import fetch_ucirepo\n",
    "import os"
   ]
  },
  {
   "cell_type": "markdown",
   "metadata": {},
   "source": [
    "Fetch repo"
   ]
  },
  {
   "cell_type": "code",
   "execution_count": null,
   "metadata": {},
   "outputs": [],
   "source": [
    "repo = fetch_ucirepo(id=544)"
   ]
  },
  {
   "cell_type": "markdown",
   "metadata": {},
   "source": [
    "Combine X and Y"
   ]
  },
  {
   "cell_type": "code",
   "execution_count": null,
   "metadata": {},
   "outputs": [],
   "source": [
    "DATA = pd.concat([repo.data.features, repo.data.targets], axis=1)\n",
    "Y_MAPPING = {\n",
    "    'Insufficient_Weight': 'Underweight',\n",
    "    'Normal_Weight': 'Normal',\n",
    "    'Overweight_Level_I': 'Overweight I',\n",
    "    'Overweight_Level_II': 'Overweight II',\n",
    "    'Obesity_Type_I': 'Obesity I',\n",
    "    'Obesity_Type_II': 'Obesity II',\n",
    "    'Obesity_Type_III': 'Obesity III',\n",
    "}\n",
    "DATA['NObeyesdad'] = DATA['NObeyesdad'].map(Y_MAPPING)\n",
    "DATA = DATA.rename({'NObeyesdad': 'y'}, axis=1)\n",
    "DATA = DATA.drop(['Height', 'Weight'], axis=1)\n",
    "display(DATA)"
   ]
  },
  {
   "cell_type": "markdown",
   "metadata": {},
   "source": [
    "Show metadata and variables"
   ]
  },
  {
   "cell_type": "code",
   "execution_count": null,
   "metadata": {},
   "outputs": [],
   "source": [
    "display(repo.metadata)\n",
    "display(repo.variables)"
   ]
  },
  {
   "cell_type": "markdown",
   "metadata": {},
   "source": [
    "Save"
   ]
  },
  {
   "cell_type": "code",
   "execution_count": null,
   "metadata": {},
   "outputs": [],
   "source": [
    "os.makedirs(\"data\", exist_ok=True)\n",
    "DATA.to_csv('data/input.csv', index=False)"
   ]
  }
 ],
 "metadata": {
  "kernelspec": {
   "display_name": "Python 3 (ipykernel)",
   "language": "python",
   "name": "python3"
  },
  "language_info": {
   "codemirror_mode": {
    "name": "ipython",
    "version": 3
   },
   "file_extension": ".py",
   "mimetype": "text/x-python",
   "name": "python",
   "nbconvert_exporter": "python",
   "pygments_lexer": "ipython3",
   "version": "3.11.7"
  }
 },
 "nbformat": 4,
 "nbformat_minor": 4
}
